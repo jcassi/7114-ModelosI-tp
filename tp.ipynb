{
 "cells": [
  {
   "cell_type": "code",
   "execution_count": 27,
   "metadata": {},
   "outputs": [],
   "source": [
    "import csv\n",
    "file = open('input.txt')\n",
    "type(file)\n",
    "csvreader = csv.reader(file)\n",
    "rows = []\n",
    "for row in csvreader:\n",
    "        rows.append(row)\n",
    "file.close()\n",
    "#rows"
   ]
  },
  {
   "cell_type": "code",
   "execution_count": 28,
   "metadata": {},
   "outputs": [
    {
     "data": {
      "text/plain": [
       "[0, 1, 2, 3, 4, 5, 6, 7, 8, 9, 10, 11, 12, 13, 14, 15, 16, 17, 18, 19]"
      ]
     },
     "execution_count": 28,
     "metadata": {},
     "output_type": "execute_result"
    }
   ],
   "source": [
    "tiempos = list(range(20))\n",
    "tiempos"
   ]
  },
  {
   "cell_type": "code",
   "execution_count": 29,
   "metadata": {},
   "outputs": [],
   "source": [
    "i = 0\n",
    "#incompatibilidades = [[]] # es una lista de adyacencias\n",
    "for row in rows:\n",
    "    splitted = row[0].split()\n",
    "    if splitted[0] == \"p\":\n",
    "        incompatibilidades = [[], [], [], [], [], [], [], [], [], [], [], [], [], [], [], [], [], [], [], []] #ver cómo hacerlo sin hardcodear\n",
    "        tiempos = list(range(int(splitted[2])))\n",
    "    if splitted[0] == \"e\":\n",
    "        incompatibilidades[int(splitted[1])-1].append(int(splitted[2])-1)\n",
    "    if splitted[0] == \"n\":\n",
    "        tiempos[int(splitted[1])-1] = int(splitted[2])"
   ]
  },
  {
   "cell_type": "code",
   "execution_count": 30,
   "metadata": {},
   "outputs": [],
   "source": []
  },
  {
   "cell_type": "code",
   "execution_count": 31,
   "metadata": {},
   "outputs": [],
   "source": []
  },
  {
   "cell_type": "code",
   "execution_count": 33,
   "metadata": {},
   "outputs": [],
   "source": [
    "def coloring3(incompatibilidades, N):\n",
    "    lavado_asignado = [-1] * N\n",
    "    lavado_asignado[0] = 0;\n",
    "    lavados_disponibles = [True] * N\n",
    "    for j in range(1, N):\n",
    "        for i in incompatibilidades[j]: #recorro prendas incompatibles con esta\n",
    "            if (lavado_asignado[i] != -1): #ya le asigné lavado\n",
    "                lavados_disponibles[lavado_asignado[i]] = False #no puede ir en ese lavado\n",
    "        nro_lavado_disponible = 0\n",
    "        while nro_lavado_disponible < N:\n",
    "            if (lavados_disponibles[nro_lavado_disponible] == True):\n",
    "                break\n",
    "            nro_lavado_disponible += 1\n",
    "        lavado_asignado[j] = nro_lavado_disponible \n",
    "        for i in incompatibilidades[j]:\n",
    "            if (lavado_asignado[i] != -1):\n",
    "                lavados_disponibles[lavado_asignado[i]] = True\n",
    "    return lavado_asignado"
   ]
  },
  {
   "cell_type": "code",
   "execution_count": 34,
   "metadata": {},
   "outputs": [
    {
     "data": {
      "text/plain": [
       "[0, 1, 2, 3, 4, 5, 6, 7, 2, 3, 0, 1, 6, 7, 4, 5, 1, 4, 5, 2]"
      ]
     },
     "execution_count": 34,
     "metadata": {},
     "output_type": "execute_result"
    }
   ],
   "source": [
    "lavado_asignado = coloring3(incompatibilidades, 20) #no hardcodear la cantidad\n",
    "lavado_asignado"
   ]
  },
  {
   "cell_type": "code",
   "execution_count": 35,
   "metadata": {
    "scrolled": true
   },
   "outputs": [
    {
     "data": {
      "text/plain": [
       "[[], [], [], [], [], [], [], []]"
      ]
     },
     "execution_count": 35,
     "metadata": {},
     "output_type": "execute_result"
    }
   ],
   "source": [
    "colores = [[] for i in range(max(lavado_asignado)+1)]\n",
    "colores"
   ]
  },
  {
   "cell_type": "code",
   "execution_count": 36,
   "metadata": {},
   "outputs": [
    {
     "data": {
      "text/plain": [
       "[[1, 11],\n",
       " [2, 12, 17],\n",
       " [3, 9, 20],\n",
       " [4, 10],\n",
       " [5, 15, 18],\n",
       " [6, 16, 19],\n",
       " [7, 13],\n",
       " [8, 14]]"
      ]
     },
     "execution_count": 36,
     "metadata": {},
     "output_type": "execute_result"
    }
   ],
   "source": [
    "for i in range(len(lavado_asignado)):\n",
    "    colores[lavado_asignado[i]].append(i+1)\n",
    "colores"
   ]
  },
  {
   "cell_type": "code",
   "execution_count": 37,
   "metadata": {},
   "outputs": [
    {
     "name": "stdout",
     "output_type": "stream",
     "text": [
      "[8, 6]\n",
      "[10, 9, 10]\n",
      "[9, 9, 5]\n",
      "[7, 8]\n",
      "[3, 5, 4]\n",
      "[9, 9, 4]\n",
      "[10, 5]\n",
      "[2, 1]\n"
     ]
    },
    {
     "data": {
      "text/plain": [
       "61"
      ]
     },
     "execution_count": 37,
     "metadata": {},
     "output_type": "execute_result"
    }
   ],
   "source": [
    "total = 0\n",
    "for color in colores:\n",
    "    c = [tiempos[index-1] for index in color]\n",
    "    print(c)\n",
    "    total += max(c)\n",
    "total"
   ]
  },
  {
   "cell_type": "code",
   "execution_count": null,
   "metadata": {},
   "outputs": [],
   "source": []
  },
  {
   "cell_type": "code",
   "execution_count": null,
   "metadata": {},
   "outputs": [],
   "source": []
  },
  {
   "cell_type": "code",
   "execution_count": null,
   "metadata": {},
   "outputs": [],
   "source": []
  },
  {
   "cell_type": "code",
   "execution_count": null,
   "metadata": {},
   "outputs": [],
   "source": []
  }
 ],
 "metadata": {
  "kernelspec": {
   "display_name": "Python 3",
   "language": "python",
   "name": "python3"
  },
  "language_info": {
   "codemirror_mode": {
    "name": "ipython",
    "version": 3
   },
   "file_extension": ".py",
   "mimetype": "text/x-python",
   "name": "python",
   "nbconvert_exporter": "python",
   "pygments_lexer": "ipython3",
   "version": "3.7.7"
  }
 },
 "nbformat": 4,
 "nbformat_minor": 4
}
