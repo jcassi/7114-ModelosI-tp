{
 "cells": [
  {
   "cell_type": "code",
   "execution_count": 1,
   "metadata": {},
   "outputs": [],
   "source": [
    "import csv\n",
    "file = open('primer_problema.txt')\n",
    "type(file)\n",
    "csvreader = csv.reader(file)\n",
    "rows = []\n",
    "for row in csvreader:\n",
    "        rows.append(row)\n",
    "file.close()\n",
    "#rows"
   ]
  },
  {
   "cell_type": "code",
   "execution_count": null,
   "metadata": {},
   "outputs": [],
   "source": []
  },
  {
   "cell_type": "code",
   "execution_count": 2,
   "metadata": {},
   "outputs": [],
   "source": [
    "i = 0\n",
    "#incompatibilidades = [[]] # es una lista de adyacencias\n",
    "for row in rows:\n",
    "    splitted = row[0].split()\n",
    "    if splitted[0] == \"p\":\n",
    "        incompatibilidades = [[] for i in range(int(splitted[2]))]\n",
    "        tiempos = list(range(int(splitted[2])))\n",
    "    if splitted[0] == \"e\":\n",
    "        incompatibilidades[int(splitted[1])-1].append(int(splitted[2])-1)\n",
    "    if splitted[0] == \"n\":\n",
    "        tiempos[int(splitted[1])-1] = int(splitted[2])"
   ]
  },
  {
   "cell_type": "code",
   "execution_count": null,
   "metadata": {},
   "outputs": [],
   "source": []
  },
  {
   "cell_type": "code",
   "execution_count": null,
   "metadata": {},
   "outputs": [],
   "source": []
  },
  {
   "cell_type": "code",
   "execution_count": 3,
   "metadata": {},
   "outputs": [],
   "source": [
    "def coloring(incompatibilidades, N):\n",
    "    lavado_asignado = [-1] * N\n",
    "    lavado_asignado[0] = 0;\n",
    "    lavados_disponibles = [True] * N\n",
    "    for j in range(1, N):\n",
    "        for i in incompatibilidades[j]: #recorro prendas incompatibles con esta\n",
    "            if (lavado_asignado[i] != -1): #ya le asigné lavado\n",
    "                lavados_disponibles[lavado_asignado[i]] = False #no puede ir en ese lavado\n",
    "        nro_lavado_disponible = 0\n",
    "        while nro_lavado_disponible < N:\n",
    "            if (lavados_disponibles[nro_lavado_disponible] == True):\n",
    "                break\n",
    "            nro_lavado_disponible += 1\n",
    "        lavado_asignado[j] = nro_lavado_disponible \n",
    "        for i in incompatibilidades[j]:\n",
    "            if (lavado_asignado[i] != -1):\n",
    "                lavados_disponibles[lavado_asignado[i]] = True\n",
    "    return lavado_asignado"
   ]
  },
  {
   "cell_type": "code",
   "execution_count": 4,
   "metadata": {},
   "outputs": [
    {
     "data": {
      "text/plain": [
       "[0, 1, 2, 3, 4, 5, 6, 7, 2, 3, 0, 1, 6, 7, 4, 5, 1, 4, 5, 2]"
      ]
     },
     "execution_count": 4,
     "metadata": {},
     "output_type": "execute_result"
    }
   ],
   "source": [
    "lavado_asignado = coloring(incompatibilidades, 20) #no hardcodear la cantidad\n",
    "lavado_asignado"
   ]
  },
  {
   "cell_type": "code",
   "execution_count": 5,
   "metadata": {
    "scrolled": true
   },
   "outputs": [
    {
     "data": {
      "text/plain": [
       "[[], [], [], [], [], [], [], []]"
      ]
     },
     "execution_count": 5,
     "metadata": {},
     "output_type": "execute_result"
    }
   ],
   "source": [
    "colores = [[] for i in range(max(lavado_asignado)+1)]\n",
    "colores"
   ]
  },
  {
   "cell_type": "code",
   "execution_count": 6,
   "metadata": {},
   "outputs": [
    {
     "data": {
      "text/plain": [
       "[[1, 11],\n",
       " [2, 12, 17],\n",
       " [3, 9, 20],\n",
       " [4, 10],\n",
       " [5, 15, 18],\n",
       " [6, 16, 19],\n",
       " [7, 13],\n",
       " [8, 14]]"
      ]
     },
     "execution_count": 6,
     "metadata": {},
     "output_type": "execute_result"
    }
   ],
   "source": [
    "for i in range(len(lavado_asignado)):\n",
    "    colores[lavado_asignado[i]].append(i+1)\n",
    "colores"
   ]
  },
  {
   "cell_type": "code",
   "execution_count": 7,
   "metadata": {},
   "outputs": [
    {
     "name": "stdout",
     "output_type": "stream",
     "text": [
      "1 1\n",
      "2 2\n",
      "3 3\n",
      "4 4\n",
      "5 5\n",
      "6 6\n",
      "7 7\n",
      "8 8\n",
      "9 3\n",
      "10 4\n",
      "11 1\n",
      "12 2\n",
      "13 7\n",
      "14 8\n",
      "15 5\n",
      "16 6\n",
      "17 2\n",
      "18 5\n",
      "19 6\n",
      "20 3\n"
     ]
    }
   ],
   "source": [
    "for i in range(20): \n",
    "    print(i+1, lavado_asignado[i]+1)"
   ]
  },
  {
   "cell_type": "code",
   "execution_count": 8,
   "metadata": {},
   "outputs": [],
   "source": [
    "with open('output.txt', 'w', newline='') as f:\n",
    "    writer = csv.writer(f, delimiter =' ')\n",
    "    for i in range(20):\n",
    "        writer.writerow([i+1, lavado_asignado[i]+1])"
   ]
  },
  {
   "cell_type": "code",
   "execution_count": 9,
   "metadata": {},
   "outputs": [
    {
     "name": "stdout",
     "output_type": "stream",
     "text": [
      "[8, 6]\n",
      "[10, 9, 10]\n",
      "[9, 9, 5]\n",
      "[7, 8]\n",
      "[3, 5, 4]\n",
      "[9, 9, 4]\n",
      "[10, 5]\n",
      "[2, 1]\n"
     ]
    },
    {
     "data": {
      "text/plain": [
       "61"
      ]
     },
     "execution_count": 9,
     "metadata": {},
     "output_type": "execute_result"
    }
   ],
   "source": [
    "total = 0\n",
    "for color in colores:\n",
    "    c = [tiempos[index-1] for index in color]\n",
    "    print(c)\n",
    "    total += max(c)\n",
    "total"
   ]
  },
  {
   "cell_type": "code",
   "execution_count": null,
   "metadata": {},
   "outputs": [],
   "source": []
  },
  {
   "cell_type": "code",
   "execution_count": null,
   "metadata": {},
   "outputs": [],
   "source": []
  },
  {
   "cell_type": "code",
   "execution_count": null,
   "metadata": {},
   "outputs": [],
   "source": []
  },
  {
   "cell_type": "code",
   "execution_count": null,
   "metadata": {},
   "outputs": [],
   "source": []
  }
 ],
 "metadata": {
  "kernelspec": {
   "display_name": "Python 3",
   "language": "python",
   "name": "python3"
  },
  "language_info": {
   "codemirror_mode": {
    "name": "ipython",
    "version": 3
   },
   "file_extension": ".py",
   "mimetype": "text/x-python",
   "name": "python",
   "nbconvert_exporter": "python",
   "pygments_lexer": "ipython3",
   "version": "3.7.7"
  }
 },
 "nbformat": 4,
 "nbformat_minor": 4
}
