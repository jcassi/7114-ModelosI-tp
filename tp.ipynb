{
 "cells": [
  {
   "cell_type": "code",
   "execution_count": 27,
   "metadata": {},
   "outputs": [],
   "source": [
    "import csv\n",
    "file = open('primer_problema.txt')\n",
    "type(file)\n",
    "csvreader = csv.reader(file)\n",
    "rows = []\n",
    "for row in csvreader:\n",
    "        rows.append(row)\n",
    "file.close()\n",
    "#rows"
   ]
  },
  {
   "cell_type": "code",
   "execution_count": null,
   "metadata": {},
   "outputs": [],
   "source": []
  },
  {
   "cell_type": "code",
   "execution_count": 28,
   "metadata": {},
   "outputs": [],
   "source": [
    "i = 0\n",
    "#incompatibilidades es una lista de adyacencias con las incompatibilidades\n",
    "#tiempos es la lista de tiempo de lavado de cada prenda\n",
    "for row in rows:\n",
    "    splitted = row[0].split()\n",
    "    if splitted[0] == \"p\":\n",
    "        N = int(splitted[2])\n",
    "        incompatibilidades = [[] for i in range(N)]\n",
    "        tiempos = list(range(N))\n",
    "    if splitted[0] == \"e\":\n",
    "        incompatibilidades[int(splitted[1])-1].append(int(splitted[2])-1)\n",
    "    if splitted[0] == \"n\":\n",
    "        tiempos[int(splitted[1])-1] = int(splitted[2])"
   ]
  },
  {
   "cell_type": "code",
   "execution_count": null,
   "metadata": {},
   "outputs": [],
   "source": []
  },
  {
   "cell_type": "code",
   "execution_count": null,
   "metadata": {},
   "outputs": [],
   "source": []
  },
  {
   "cell_type": "code",
   "execution_count": 29,
   "metadata": {},
   "outputs": [],
   "source": [
    "def asignar_lavado(incompatibilidades, N):\n",
    "    lavado_asignado = [-1] * N\n",
    "    lavado_asignado[0] = 0;\n",
    "    lavados_disponibles = [True] * N\n",
    "    for j in range(1, N):\n",
    "        for i in incompatibilidades[j]: #recorro prendas incompatibles con esta\n",
    "            if (lavado_asignado[i] != -1): #ya le asigné lavado\n",
    "                lavados_disponibles[lavado_asignado[i]] = False #no puede ir en ese lavado\n",
    "        nro_lavado_disponible = 0\n",
    "        while nro_lavado_disponible < N:\n",
    "            if (lavados_disponibles[nro_lavado_disponible] == True):\n",
    "                break\n",
    "            nro_lavado_disponible += 1\n",
    "        lavado_asignado[j] = nro_lavado_disponible \n",
    "        for i in incompatibilidades[j]:\n",
    "            if (lavado_asignado[i] != -1):\n",
    "                lavados_disponibles[lavado_asignado[i]] = True\n",
    "    return lavado_asignado"
   ]
  },
  {
   "cell_type": "code",
   "execution_count": 30,
   "metadata": {},
   "outputs": [],
   "source": [
    "lavado_asignado = asignar_lavado(incompatibilidades, N) #no hardcodear la cantidad"
   ]
  },
  {
   "cell_type": "code",
   "execution_count": 33,
   "metadata": {
    "scrolled": true
   },
   "outputs": [],
   "source": [
    "lavados = [[] for i in range(max(lavado_asignado)+1)]"
   ]
  },
  {
   "cell_type": "code",
   "execution_count": 34,
   "metadata": {},
   "outputs": [
    {
     "data": {
      "text/plain": [
       "[[1, 11],\n",
       " [2, 12, 17],\n",
       " [3, 9, 20],\n",
       " [4, 10],\n",
       " [5, 15, 18],\n",
       " [6, 16, 19],\n",
       " [7, 13],\n",
       " [8, 14]]"
      ]
     },
     "execution_count": 34,
     "metadata": {},
     "output_type": "execute_result"
    }
   ],
   "source": [
    "for i in range(len(lavado_asignado)):\n",
    "    lavados[lavado_asignado[i]].append(i+1)\n",
    "lavados"
   ]
  },
  {
   "cell_type": "code",
   "execution_count": null,
   "metadata": {},
   "outputs": [],
   "source": []
  },
  {
   "cell_type": "code",
   "execution_count": 35,
   "metadata": {},
   "outputs": [],
   "source": [
    "with open('output.txt', 'w', newline='') as f:\n",
    "    writer = csv.writer(f, delimiter =' ')\n",
    "    for i in range(20):\n",
    "        writer.writerow([i+1, lavado_asignado[i]+1])"
   ]
  },
  {
   "cell_type": "code",
   "execution_count": 36,
   "metadata": {},
   "outputs": [
    {
     "data": {
      "text/plain": [
       "61"
      ]
     },
     "execution_count": 36,
     "metadata": {},
     "output_type": "execute_result"
    }
   ],
   "source": [
    "total = 0\n",
    "for lavado in lavados:\n",
    "    c = [tiempos[index-1] for index in lavado]\n",
    "    total += max(c)\n",
    "total"
   ]
  },
  {
   "cell_type": "code",
   "execution_count": null,
   "metadata": {},
   "outputs": [],
   "source": []
  },
  {
   "cell_type": "code",
   "execution_count": null,
   "metadata": {},
   "outputs": [],
   "source": []
  },
  {
   "cell_type": "code",
   "execution_count": null,
   "metadata": {},
   "outputs": [],
   "source": []
  },
  {
   "cell_type": "code",
   "execution_count": null,
   "metadata": {},
   "outputs": [],
   "source": []
  }
 ],
 "metadata": {
  "kernelspec": {
   "display_name": "Python 3",
   "language": "python",
   "name": "python3"
  },
  "language_info": {
   "codemirror_mode": {
    "name": "ipython",
    "version": 3
   },
   "file_extension": ".py",
   "mimetype": "text/x-python",
   "name": "python",
   "nbconvert_exporter": "python",
   "pygments_lexer": "ipython3",
   "version": "3.7.7"
  }
 },
 "nbformat": 4,
 "nbformat_minor": 4
}
