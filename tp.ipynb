{
 "cells": [
  {
   "cell_type": "code",
   "execution_count": 52,
   "metadata": {},
   "outputs": [],
   "source": [
    "import csv\n",
    "file = open('segundo_problema.txt')\n",
    "type(file)\n",
    "csvreader = csv.reader(file)\n",
    "rows = []\n",
    "for row in csvreader:\n",
    "        rows.append(row)\n",
    "file.close()\n",
    "#rows"
   ]
  },
  {
   "cell_type": "code",
   "execution_count": null,
   "metadata": {},
   "outputs": [],
   "source": []
  },
  {
   "cell_type": "code",
   "execution_count": 53,
   "metadata": {},
   "outputs": [],
   "source": [
    "i = 0\n",
    "#incompatibilidades es una lista de adyacencias con las incompatibilidades\n",
    "#tiempos es la lista de tiempo de lavado de cada prenda\n",
    "for row in rows:\n",
    "    splitted = row[0].split()\n",
    "    if splitted[0] == \"p\":\n",
    "        N = int(splitted[2])\n",
    "        incompatibilidades = [[] for i in range(N)]\n",
    "        tiempos = list(range(N))\n",
    "    if splitted[0] == \"e\":\n",
    "        incompatibilidades[int(splitted[1])-1].append(int(splitted[2])-1)\n",
    "    if splitted[0] == \"n\":\n",
    "        tiempos[int(splitted[1])-1] = int(splitted[2])"
   ]
  },
  {
   "cell_type": "code",
   "execution_count": 54,
   "metadata": {},
   "outputs": [],
   "source": [
    "for i in range(0,N):\n",
    "    for j in incompatibilidades[i]:\n",
    "        if i not in incompatibilidades[j]:\n",
    "            incompatibilidades[j].append(i)"
   ]
  },
  {
   "cell_type": "code",
   "execution_count": 56,
   "metadata": {},
   "outputs": [],
   "source": []
  },
  {
   "cell_type": "code",
   "execution_count": 57,
   "metadata": {},
   "outputs": [],
   "source": [
    "def asignar_lavado(incompatibilidades, N):\n",
    "    lavado_asignado = [-1] * N\n",
    "    lavado_asignado[0] = 0;\n",
    "    lavados_disponibles = [True] * N\n",
    "    for j in range(1, N):\n",
    "        for i in incompatibilidades[j]: #recorro prendas incompatibles con esta\n",
    "            if (lavado_asignado[i] != -1): #ya le asigné lavado\n",
    "                lavados_disponibles[lavado_asignado[i]] = False #no puede ir en ese lavado\n",
    "        nro_lavado_disponible = 0\n",
    "        while nro_lavado_disponible < N:\n",
    "            if (lavados_disponibles[nro_lavado_disponible] == True):\n",
    "                break\n",
    "            nro_lavado_disponible += 1\n",
    "        lavado_asignado[j] = nro_lavado_disponible \n",
    "        for i in incompatibilidades[j]:\n",
    "            if (lavado_asignado[i] != -1):\n",
    "                lavados_disponibles[lavado_asignado[i]] = True\n",
    "    return lavado_asignado"
   ]
  },
  {
   "cell_type": "code",
   "execution_count": 58,
   "metadata": {},
   "outputs": [],
   "source": [
    "lavado_asignado = asignar_lavado(incompatibilidades, N) #no hardcodear la cantidad"
   ]
  },
  {
   "cell_type": "code",
   "execution_count": 59,
   "metadata": {
    "scrolled": true
   },
   "outputs": [],
   "source": [
    "lavados = [[] for i in range(max(lavado_asignado)+1)]"
   ]
  },
  {
   "cell_type": "code",
   "execution_count": 60,
   "metadata": {},
   "outputs": [
    {
     "data": {
      "text/plain": [
       "[[1,\n",
       "  3,\n",
       "  18,\n",
       "  28,\n",
       "  35,\n",
       "  40,\n",
       "  43,\n",
       "  62,\n",
       "  99,\n",
       "  104,\n",
       "  109,\n",
       "  134,\n",
       "  137,\n",
       "  138,\n",
       "  140,\n",
       "  142,\n",
       "  156,\n",
       "  167,\n",
       "  185,\n",
       "  187,\n",
       "  193,\n",
       "  199,\n",
       "  229,\n",
       "  235,\n",
       "  285,\n",
       "  309,\n",
       "  327,\n",
       "  339],\n",
       " [2,\n",
       "  4,\n",
       "  20,\n",
       "  32,\n",
       "  38,\n",
       "  44,\n",
       "  57,\n",
       "  58,\n",
       "  67,\n",
       "  94,\n",
       "  114,\n",
       "  116,\n",
       "  118,\n",
       "  121,\n",
       "  136,\n",
       "  162,\n",
       "  166,\n",
       "  188,\n",
       "  194,\n",
       "  212,\n",
       "  236,\n",
       "  241,\n",
       "  284,\n",
       "  313,\n",
       "  315,\n",
       "  316,\n",
       "  328,\n",
       "  354,\n",
       "  355],\n",
       " [5,\n",
       "  22,\n",
       "  27,\n",
       "  29,\n",
       "  33,\n",
       "  48,\n",
       "  59,\n",
       "  68,\n",
       "  86,\n",
       "  100,\n",
       "  112,\n",
       "  130,\n",
       "  132,\n",
       "  141,\n",
       "  164,\n",
       "  176,\n",
       "  258,\n",
       "  314,\n",
       "  360,\n",
       "  362],\n",
       " [6, 19, 30, 39, 51, 66, 85, 105, 111, 124, 168, 186, 221, 274, 280, 379],\n",
       " [7, 23, 37, 45, 60, 69, 113, 128, 195, 213, 358, 361, 381],\n",
       " [8, 15, 24, 31, 61, 64, 82, 115, 117, 119, 135, 158, 173, 352, 382],\n",
       " [9, 13, 17, 21, 41, 55, 63, 65, 102, 126, 157, 171, 380],\n",
       " [10, 25, 49, 53, 71, 75, 108, 133, 143, 262, 383],\n",
       " [11, 26, 52, 70, 76, 81, 106, 122, 153, 159, 345],\n",
       " [12, 34, 56, 72, 78, 80, 110, 160, 273, 279],\n",
       " [14, 36, 73, 79, 83, 95, 139, 147, 196, 208, 224, 357],\n",
       " [16, 50, 92, 144, 169, 201, 211, 216, 263, 302, 353],\n",
       " [42, 47, 74, 172, 178, 189, 209],\n",
       " [46, 54, 77, 89, 107, 174, 197, 210],\n",
       " [84, 93, 120, 170, 198, 215, 264, 286],\n",
       " [87, 96, 146, 155, 165, 183, 190, 219, 283, 359],\n",
       " [88, 97, 123, 161, 200, 220, 226, 350],\n",
       " [90, 98, 154, 184, 192, 207, 227, 244, 260, 294, 312],\n",
       " [91, 101, 131, 148, 163, 181, 203, 217, 261, 275],\n",
       " [103, 125, 175, 191, 204, 218, 232],\n",
       " [127, 145, 179, 214, 230, 249, 265, 297, 317, 378],\n",
       " [129, 150, 177, 231, 237, 239, 253, 306],\n",
       " [149, 180, 205, 222, 245, 277, 281, 329, 338],\n",
       " [151, 223, 246, 276, 282, 295, 320],\n",
       " [152, 182, 225, 247, 270, 330, 356],\n",
       " [202, 206, 248, 272, 278, 292, 319],\n",
       " [228, 243, 255, 257, 287, 300, 322, 342],\n",
       " [233, 238, 326, 351, 376],\n",
       " [234, 250, 268, 288, 305, 346],\n",
       " [240, 254, 266, 271, 332],\n",
       " [242, 251, 259, 289, 331],\n",
       " [252, 256, 267, 293, 324],\n",
       " [269, 290, 296, 303, 318, 340, 349],\n",
       " [291, 298, 304, 321, 335, 341],\n",
       " [299, 307, 323, 334, 337],\n",
       " [301, 310, 311, 325, 343, 344],\n",
       " [308, 333, 336],\n",
       " [347, 363, 365],\n",
       " [348, 364],\n",
       " [366, 367, 368, 369, 377],\n",
       " [370, 371, 372, 373, 374, 375, 384],\n",
       " [385]]"
      ]
     },
     "execution_count": 60,
     "metadata": {},
     "output_type": "execute_result"
    }
   ],
   "source": [
    "for i in range(len(lavado_asignado)):\n",
    "    lavados[lavado_asignado[i]].append(i+1)\n",
    "lavados"
   ]
  },
  {
   "cell_type": "code",
   "execution_count": 61,
   "metadata": {},
   "outputs": [],
   "source": [
    "with open('output.txt', 'w', newline='') as f:\n",
    "    writer = csv.writer(f, delimiter =' ')\n",
    "    for i in range(20):\n",
    "        writer.writerow([i+1, lavado_asignado[i]+1])"
   ]
  },
  {
   "cell_type": "code",
   "execution_count": 62,
   "metadata": {},
   "outputs": [
    {
     "data": {
      "text/plain": [
       "755"
      ]
     },
     "execution_count": 62,
     "metadata": {},
     "output_type": "execute_result"
    }
   ],
   "source": [
    "total = 0\n",
    "for lavado in lavados:\n",
    "    c = [tiempos[index-1] for index in lavado]\n",
    "    total += max(c)\n",
    "total"
   ]
  },
  {
   "cell_type": "code",
   "execution_count": null,
   "metadata": {},
   "outputs": [],
   "source": []
  },
  {
   "cell_type": "code",
   "execution_count": null,
   "metadata": {},
   "outputs": [],
   "source": []
  },
  {
   "cell_type": "code",
   "execution_count": null,
   "metadata": {},
   "outputs": [],
   "source": []
  }
 ],
 "metadata": {
  "kernelspec": {
   "display_name": "Python 3",
   "language": "python",
   "name": "python3"
  },
  "language_info": {
   "codemirror_mode": {
    "name": "ipython",
    "version": 3
   },
   "file_extension": ".py",
   "mimetype": "text/x-python",
   "name": "python",
   "nbconvert_exporter": "python",
   "pygments_lexer": "ipython3",
   "version": "3.7.7"
  }
 },
 "nbformat": 4,
 "nbformat_minor": 4
}
