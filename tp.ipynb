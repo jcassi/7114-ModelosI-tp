{
 "cells": [
  {
   "cell_type": "code",
   "execution_count": 3,
   "metadata": {},
   "outputs": [],
   "source": [
    "import csv\n",
    "file = open('input.txt')\n",
    "type(file)\n",
    "csvreader = csv.reader(file)\n",
    "rows = []\n",
    "for row in csvreader:\n",
    "        rows.append(row)\n",
    "file.close()\n",
    "#rows"
   ]
  },
  {
   "cell_type": "code",
   "execution_count": 4,
   "metadata": {},
   "outputs": [
    {
     "data": {
      "text/plain": [
       "[0, 1, 2, 3, 4, 5, 6, 7, 8, 9, 10, 11, 12, 13, 14, 15, 16, 17, 18, 19]"
      ]
     },
     "execution_count": 4,
     "metadata": {},
     "output_type": "execute_result"
    }
   ],
   "source": [
    "times = list(range(20))\n",
    "times"
   ]
  },
  {
   "cell_type": "code",
   "execution_count": 5,
   "metadata": {},
   "outputs": [],
   "source": [
    "i = 0\n",
    "#adj = [[]]\n",
    "for row in rows:\n",
    "    splitted = row[0].split()\n",
    "    if splitted[0] == \"p\":\n",
    "        adj = [[], [], [], [], [], [], [], [], [], [], [], [], [], [], [], [], [], [], [], []] #ver cómo hacerlo sin hardcodear\n",
    "        #print(int(splitted[2])) #usarlo para no hardcodear adj\n",
    "        times = list(range(int(splitted[2])))\n",
    "    if splitted[0] == \"e\":\n",
    "        adj[int(splitted[1])-1].append(int(splitted[2])-1)\n",
    "    if splitted[0] == \"n\":\n",
    "        times[int(splitted[1])-1] = int(splitted[2])"
   ]
  },
  {
   "cell_type": "code",
   "execution_count": 13,
   "metadata": {},
   "outputs": [],
   "source": [
    "def coloring(adj, N):\n",
    "    result = [-1] * N\n",
    "  \n",
    "    # Asigno el color 0 al primer elemento\n",
    "    result[0] = 0;\n",
    "  \n",
    "  \n",
    "    # Guardo los colores disponibles, False es cuando un adyacente ya tiene\n",
    "    # ese color\n",
    "    available = [True] * N\n",
    "  \n",
    "    # Asignar lavado a cada prenda\n",
    "    for u in range(1, N):\n",
    "          \n",
    "        # Marco como no disponibles los lavados de las prendas incompatibles con esta\n",
    "        for i in adj[u]:\n",
    "            if (result[i] != -1): #ya le asigné lavado\n",
    "                available[result[i]] = False\n",
    "  \n",
    "        # Encuentro el primer lavado disponible\n",
    "        cr = 0\n",
    "        while cr < N:\n",
    "            if (available[cr] == True):\n",
    "                break\n",
    "            cr += 1\n",
    "              \n",
    "        # Le asigno el lavado a la prenda\n",
    "        result[u] = cr \n",
    "  \n",
    "        # Reseteo los lavados como disponibles para la siguiente prenda\n",
    "        for i in adj[u]:\n",
    "            if (result[i] != -1):\n",
    "                available[result[i]] = True\n",
    "  \n",
    "    return result"
   ]
  },
  {
   "cell_type": "code",
   "execution_count": 14,
   "metadata": {},
   "outputs": [
    {
     "name": "stdout",
     "output_type": "stream",
     "text": [
      "0\n",
      "1\n",
      "2\n",
      "3\n",
      "4\n",
      "5\n",
      "6\n",
      "7\n",
      "2\n",
      "3\n",
      "0\n",
      "1\n",
      "6\n",
      "7\n",
      "4\n",
      "5\n",
      "1\n",
      "4\n",
      "5\n",
      "2\n"
     ]
    }
   ],
   "source": [
    "result = coloring(adj, 20) #no hardcodear la cantidad\n",
    "for i in result:\n",
    "    print(i)"
   ]
  },
  {
   "cell_type": "code",
   "execution_count": null,
   "metadata": {},
   "outputs": [],
   "source": []
  },
  {
   "cell_type": "code",
   "execution_count": null,
   "metadata": {},
   "outputs": [],
   "source": []
  },
  {
   "cell_type": "code",
   "execution_count": null,
   "metadata": {},
   "outputs": [],
   "source": []
  },
  {
   "cell_type": "code",
   "execution_count": null,
   "metadata": {},
   "outputs": [],
   "source": []
  },
  {
   "cell_type": "code",
   "execution_count": null,
   "metadata": {},
   "outputs": [],
   "source": []
  },
  {
   "cell_type": "code",
   "execution_count": null,
   "metadata": {},
   "outputs": [],
   "source": []
  },
  {
   "cell_type": "code",
   "execution_count": null,
   "metadata": {},
   "outputs": [],
   "source": []
  }
 ],
 "metadata": {
  "kernelspec": {
   "display_name": "Python 3",
   "language": "python",
   "name": "python3"
  },
  "language_info": {
   "codemirror_mode": {
    "name": "ipython",
    "version": 3
   },
   "file_extension": ".py",
   "mimetype": "text/x-python",
   "name": "python",
   "nbconvert_exporter": "python",
   "pygments_lexer": "ipython3",
   "version": "3.7.7"
  }
 },
 "nbformat": 4,
 "nbformat_minor": 4
}
